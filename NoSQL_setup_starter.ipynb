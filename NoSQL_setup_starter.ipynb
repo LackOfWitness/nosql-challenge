{
 "cells": [
  {
   "cell_type": "markdown",
   "id": "9a57c4c6",
   "metadata": {},
   "source": [
    "# Eat Safe, Love"
   ]
  },
  {
   "cell_type": "markdown",
   "id": "064ef857",
   "metadata": {},
   "source": [
    "## Part 1: Database and Jupyter Notebook Set Up"
   ]
  },
  {
   "cell_type": "markdown",
   "id": "664e3c1f",
   "metadata": {},
   "source": [
    "Import the data provided in the `establishments.json` file from your Terminal. Name the database `uk_food` and the collection `establishments`.\n",
    "\n",
    "Within this markdown cell, copy the line of text you used to import the data from your Terminal. This way, future analysts will be able to repeat your process.\n",
    "\n",
    "e.g.: Import the dataset with `YOUR IMPORT TEXT HERE`"
   ]
  },
  {
   "cell_type": "code",
   "execution_count": 1,
   "id": "3ecdd008",
   "metadata": {},
   "outputs": [],
   "source": [
    "# Import dependencies\n",
    "from pymongo import MongoClient\n",
    "from pprint import pprint"
   ]
  },
  {
   "cell_type": "code",
   "execution_count": 2,
   "id": "59390c4a",
   "metadata": {},
   "outputs": [],
   "source": [
    "# Create an instance of MongoClient\n",
    "mongo = MongoClient(port=27017)"
   ]
  },
  {
   "cell_type": "code",
   "execution_count": 3,
   "id": "7f9ececa",
   "metadata": {},
   "outputs": [
    {
     "name": "stdout",
     "output_type": "stream",
     "text": [
      "['admin', 'autosaurus', 'classDB', 'config', 'epa', 'fruits_db', 'gardenDB', 'local', 'mars_db', 'met', 'petsitly_marketing', 'travel_db', 'uk_food']\n"
     ]
    }
   ],
   "source": [
    "# confirm that our new database was created\n",
    "print(mongo.list_database_names())"
   ]
  },
  {
   "cell_type": "code",
   "execution_count": 4,
   "id": "71e373c1",
   "metadata": {},
   "outputs": [],
   "source": [
    "# assign the uk_food database to a variable name\n",
    "db = mongo['uk_food']"
   ]
  },
  {
   "cell_type": "code",
   "execution_count": 5,
   "id": "ef1b89ed",
   "metadata": {},
   "outputs": [
    {
     "name": "stdout",
     "output_type": "stream",
     "text": [
      "['establishments']\n"
     ]
    }
   ],
   "source": [
    "# review the collections in our new database\n",
    "print(db.list_collection_names())"
   ]
  },
  {
   "cell_type": "code",
   "execution_count": 6,
   "id": "18ab463c",
   "metadata": {},
   "outputs": [
    {
     "name": "stdout",
     "output_type": "stream",
     "text": [
      "{'_id': ObjectId('66ecb7ced5960d06c3e307ec'), 'FHRSID': 254719, 'ChangesByServerID': 0, 'LocalAuthorityBusinessID': 'PI/000069980', 'BusinessName': 'Refreshment Kiosk', 'BusinessType': 'Restaurant/Cafe/Canteen', 'BusinessTypeID': 1, 'AddressLine1': 'The Bay', 'AddressLine2': 'St Margarets Bay', 'AddressLine3': 'Kent', 'AddressLine4': '', 'PostCode': 'CT15 6DY', 'Phone': '', 'RatingValue': '5', 'RatingKey': 'fhrs_5_en-gb', 'RatingDate': '2022-03-24T00:00:00', 'LocalAuthorityCode': '182', 'LocalAuthorityName': 'Dover', 'LocalAuthorityWebSite': 'http://www.dover.gov.uk/', 'LocalAuthorityEmailAddress': 'publicprotection@dover.gov.uk', 'scores': {'Hygiene': 0, 'Structural': 5, 'ConfidenceInManagement': 5}, 'SchemeType': 'FHRS', 'geocode': {'longitude': '1.387974', 'latitude': '51.152225'}, 'RightToReply': '', 'Distance': 4587.347174863443, 'NewRatingPending': False, 'meta': {'dataSource': None, 'extractDate': '0001-01-01T00:00:00', 'itemCount': 0, 'returncode': None, 'totalCount': 0, 'totalPages': 0, 'pageSize': 0, 'pageNumber': 0}, 'links': [{'rel': 'self', 'href': 'https://api.ratings.food.gov.uk/establishments/254719'}]}\n"
     ]
    }
   ],
   "source": [
    "# review the collections in our new database\n",
    "print(db.establishments.find_one())"
   ]
  },
  {
   "cell_type": "code",
   "execution_count": 9,
   "id": "6a0d92df",
   "metadata": {},
   "outputs": [
    {
     "name": "stdout",
     "output_type": "stream",
     "text": [
      "{\n",
      "\u001b[1;34m  \"_id\":\u001b[0m\u001b[1;32m \"66ecb7ced5960d06c3e307ec\",\u001b[0m\n",
      "\u001b[1;34m  \"FHRSID\":\u001b[0m\u001b[1;32m 254719,\u001b[0m\n",
      "\u001b[1;34m  \"ChangesByServerID\":\u001b[0m\u001b[1;32m 0,\u001b[0m\n",
      "\u001b[1;34m  \"LocalAuthorityBusinessID\":\u001b[0m\u001b[1;32m \"PI/000069980\",\u001b[0m\n",
      "\u001b[1;34m  \"BusinessName\":\u001b[0m\u001b[1;32m \"Refreshment Kiosk\",\u001b[0m\n",
      "\u001b[1;34m  \"BusinessType\":\u001b[0m\u001b[1;32m \"Restaurant/Cafe/Canteen\",\u001b[0m\n",
      "\u001b[1;34m  \"BusinessTypeID\":\u001b[0m\u001b[1;32m 1,\u001b[0m\n",
      "\u001b[1;34m  \"AddressLine1\":\u001b[0m\u001b[1;32m \"The Bay\",\u001b[0m\n",
      "\u001b[1;34m  \"AddressLine2\":\u001b[0m\u001b[1;32m \"St Margarets Bay\",\u001b[0m\n",
      "\u001b[1;34m  \"AddressLine3\":\u001b[0m\u001b[1;32m \"Kent\",\u001b[0m\n",
      "\u001b[1;34m  \"AddressLine4\":\u001b[0m\u001b[1;32m \"\",\u001b[0m\n",
      "\u001b[1;34m  \"PostCode\":\u001b[0m\u001b[1;32m \"CT15 6DY\",\u001b[0m\n",
      "\u001b[1;34m  \"Phone\":\u001b[0m\u001b[1;32m \"\",\u001b[0m\n",
      "\u001b[1;34m  \"RatingValue\":\u001b[0m\u001b[1;32m \"5\",\u001b[0m\n",
      "\u001b[1;34m  \"RatingKey\":\u001b[0m\u001b[1;32m \"fhrs_5_en-gb\",\u001b[0m\n",
      "\u001b[1;34m  \"RatingDate\":\u001b[0m\u001b[1;32m \"2022-03-24T00:00:00\",\u001b[0m\n",
      "\u001b[1;34m  \"LocalAuthorityCode\":\u001b[0m\u001b[1;32m \"182\",\u001b[0m\n",
      "\u001b[1;34m  \"LocalAuthorityName\":\u001b[0m\u001b[1;32m \"Dover\",\u001b[0m\n",
      "\u001b[1;34m  \"LocalAuthorityWebSite\":\u001b[0m\u001b[1;32m \"http://www.dover.gov.uk/\",\u001b[0m\n",
      "\u001b[1;34m  \"LocalAuthorityEmailAddress\":\u001b[0m\u001b[1;32m \"publicprotection@dover.gov.uk\",\u001b[0m\n",
      "\u001b[1;34m  \"scores\":\u001b[0m\u001b[1;32m {\u001b[0m\n",
      "\u001b[1;34m    \"Hygiene\":\u001b[0m\u001b[1;32m 0,\u001b[0m\n",
      "\u001b[1;34m    \"Structural\":\u001b[0m\u001b[1;32m 5,\u001b[0m\n",
      "\u001b[1;34m    \"ConfidenceInManagement\":\u001b[0m\u001b[1;32m 5\u001b[0m\n",
      "  },\n",
      "\u001b[1;34m  \"SchemeType\":\u001b[0m\u001b[1;32m \"FHRS\",\u001b[0m\n",
      "\u001b[1;34m  \"geocode\":\u001b[0m\u001b[1;32m {\u001b[0m\n",
      "\u001b[1;34m    \"longitude\":\u001b[0m\u001b[1;32m \"1.387974\",\u001b[0m\n",
      "\u001b[1;34m    \"latitude\":\u001b[0m\u001b[1;32m \"51.152225\"\u001b[0m\n",
      "  },\n",
      "\u001b[1;34m  \"RightToReply\":\u001b[0m\u001b[1;32m \"\",\u001b[0m\n",
      "\u001b[1;34m  \"Distance\":\u001b[0m\u001b[1;32m 4587.347174863443,\u001b[0m\n",
      "\u001b[1;34m  \"NewRatingPending\":\u001b[0m\u001b[1;32m false,\u001b[0m\n",
      "\u001b[1;34m  \"meta\":\u001b[0m\u001b[1;32m {\u001b[0m\n",
      "\u001b[1;34m    \"dataSource\":\u001b[0m\u001b[1;32m null,\u001b[0m\n",
      "\u001b[1;34m    \"extractDate\":\u001b[0m\u001b[1;32m \"0001-01-01T00:00:00\",\u001b[0m\n",
      "\u001b[1;34m    \"itemCount\":\u001b[0m\u001b[1;32m 0,\u001b[0m\n",
      "\u001b[1;34m    \"returncode\":\u001b[0m\u001b[1;32m null,\u001b[0m\n",
      "\u001b[1;34m    \"totalCount\":\u001b[0m\u001b[1;32m 0,\u001b[0m\n",
      "\u001b[1;34m    \"totalPages\":\u001b[0m\u001b[1;32m 0,\u001b[0m\n",
      "\u001b[1;34m    \"pageSize\":\u001b[0m\u001b[1;32m 0,\u001b[0m\n",
      "\u001b[1;34m    \"pageNumber\":\u001b[0m\u001b[1;32m 0\u001b[0m\n",
      "  },\n",
      "\u001b[1;34m  \"links\":\u001b[0m\u001b[1;32m [\u001b[0m\n",
      "    {\n",
      "\u001b[1;34m      \"rel\":\u001b[0m\u001b[1;32m \"self\",\u001b[0m\n",
      "\u001b[1;34m      \"href\":\u001b[0m\u001b[1;32m \"https://api.ratings.food.gov.uk/establishments/254719\"\u001b[0m\n",
      "    }\n",
      "  ]\n",
      "}\n"
     ]
    }
   ],
   "source": [
    "# review a document in the establishments collection\n",
    "import json\n",
    "\n",
    "# Fetch one document from the establishments collection\n",
    "document = db.establishments.find_one()\n",
    "\n",
    "# Convert the document to a JSON string with indentation for readability\n",
    "json_str = json.dumps(document, indent=2, default=str)\n",
    "\n",
    "# Print the JSON string with color\n",
    "# Define colors for keys and values\n",
    "key_color = \"\\033[1;34m\"  # Blue for keys\n",
    "value_color = \"\\033[1;32m\"  # Green for values\n",
    "reset_color = \"\\033[0m\"  # Reset color\n",
    "\n",
    "# Split the JSON string into lines\n",
    "json_lines = json_str.split('\\n')\n",
    "\n",
    "# Print each line with different colors for keys and values\n",
    "for line in json_lines:\n",
    "    if ':' in line:\n",
    "        key, value = line.split(':', 1)\n",
    "        print(f\"{key_color}{key}:{reset_color}{value_color}{value}{reset_color}\")\n",
    "    else:\n",
    "        print(line)"
   ]
  },
  {
   "cell_type": "code",
   "execution_count": 8,
   "id": "11c9f11b",
   "metadata": {},
   "outputs": [],
   "source": [
    "# assign the collection to a variable\n",
    "establishments = db['establishments']"
   ]
  },
  {
   "cell_type": "markdown",
   "id": "d5671434",
   "metadata": {},
   "source": [
    "## Part 2: Update the Database"
   ]
  },
  {
   "cell_type": "markdown",
   "id": "314bd884",
   "metadata": {},
   "source": [
    "1. An exciting new halal restaurant just opened in Greenwich, but hasn't been rated yet. The magazine has asked you to include it in your analysis. Add the following restaurant \"Penang Flavours\" to the database."
   ]
  },
  {
   "cell_type": "code",
   "execution_count": 10,
   "id": "c2da7648",
   "metadata": {},
   "outputs": [],
   "source": [
    "# Create a dictionary for the new restaurant data\n",
    "new_restaurant = {\n",
    "    \"BusinessName\": \"Penang Flavours\",\n",
    "    \"BusinessType\": \"Restaurant/Cafe/Canteen\",\n",
    "    \"BusinessTypeID\": \"\",\n",
    "    \"AddressLine1\": \"Penang Flavours\",\n",
    "    \"AddressLine2\": \"146A Plumstead Rd\",\n",
    "    \"AddressLine3\": \"London\",\n",
    "    \"AddressLine4\": \"\",\n",
    "    \"PostCode\": \"SE18 7DY\",\n",
    "    \"Phone\": \"\",\n",
    "    \"LocalAuthorityCode\": \"511\",\n",
    "    \"LocalAuthorityName\": \"Greenwich\",\n",
    "    \"LocalAuthorityWebSite\": \"http://www.royalgreenwich.gov.uk\",\n",
    "    \"LocalAuthorityEmailAddress\": \"health@royalgreenwich.gov.uk\",\n",
    "    \"scores\": {\n",
    "        \"Hygiene\": \"\",\n",
    "        \"Structural\": \"\",\n",
    "        \"ConfidenceInManagement\": \"\"\n",
    "    },\n",
    "    \"SchemeType\": \"FHRS\",\n",
    "    \"geocode\": {\n",
    "        \"longitude\": \"0.08384000\",\n",
    "        \"latitude\": \"51.49014200\"\n",
    "    },\n",
    "    \"RightToReply\": \"\",\n",
    "    \"Distance\": 4623.9723280747176,\n",
    "    \"NewRatingPending\": True\n",
    "}"
   ]
  },
  {
   "cell_type": "code",
   "execution_count": 11,
   "id": "a6e5cece",
   "metadata": {},
   "outputs": [
    {
     "data": {
      "text/plain": [
       "InsertOneResult(ObjectId('66ecbada22963f47a0549c07'), acknowledged=True)"
      ]
     },
     "execution_count": 11,
     "metadata": {},
     "output_type": "execute_result"
    }
   ],
   "source": [
    "# Insert the new restaurant into the collection\n",
    "db.establishments.insert_one(new_restaurant)"
   ]
  },
  {
   "cell_type": "code",
   "execution_count": 12,
   "id": "63bb10f9",
   "metadata": {},
   "outputs": [
    {
     "name": "stdout",
     "output_type": "stream",
     "text": [
      "{\n",
      "\u001b[1;34m  \"_id\":\u001b[0m\u001b[1;32m \"66ecbada22963f47a0549c07\",\u001b[0m\n",
      "\u001b[1;34m  \"BusinessName\":\u001b[0m\u001b[1;32m \"Penang Flavours\",\u001b[0m\n",
      "\u001b[1;34m  \"BusinessType\":\u001b[0m\u001b[1;32m \"Restaurant/Cafe/Canteen\",\u001b[0m\n",
      "\u001b[1;34m  \"BusinessTypeID\":\u001b[0m\u001b[1;32m \"\",\u001b[0m\n",
      "\u001b[1;34m  \"AddressLine1\":\u001b[0m\u001b[1;32m \"Penang Flavours\",\u001b[0m\n",
      "\u001b[1;34m  \"AddressLine2\":\u001b[0m\u001b[1;32m \"146A Plumstead Rd\",\u001b[0m\n",
      "\u001b[1;34m  \"AddressLine3\":\u001b[0m\u001b[1;32m \"London\",\u001b[0m\n",
      "\u001b[1;34m  \"AddressLine4\":\u001b[0m\u001b[1;32m \"\",\u001b[0m\n",
      "\u001b[1;34m  \"PostCode\":\u001b[0m\u001b[1;32m \"SE18 7DY\",\u001b[0m\n",
      "\u001b[1;34m  \"Phone\":\u001b[0m\u001b[1;32m \"\",\u001b[0m\n",
      "\u001b[1;34m  \"LocalAuthorityCode\":\u001b[0m\u001b[1;32m \"511\",\u001b[0m\n",
      "\u001b[1;34m  \"LocalAuthorityName\":\u001b[0m\u001b[1;32m \"Greenwich\",\u001b[0m\n",
      "\u001b[1;34m  \"LocalAuthorityWebSite\":\u001b[0m\u001b[1;32m \"http://www.royalgreenwich.gov.uk\",\u001b[0m\n",
      "\u001b[1;34m  \"LocalAuthorityEmailAddress\":\u001b[0m\u001b[1;32m \"health@royalgreenwich.gov.uk\",\u001b[0m\n",
      "\u001b[1;34m  \"scores\":\u001b[0m\u001b[1;32m {\u001b[0m\n",
      "\u001b[1;34m    \"Hygiene\":\u001b[0m\u001b[1;32m \"\",\u001b[0m\n",
      "\u001b[1;34m    \"Structural\":\u001b[0m\u001b[1;32m \"\",\u001b[0m\n",
      "\u001b[1;34m    \"ConfidenceInManagement\":\u001b[0m\u001b[1;32m \"\"\u001b[0m\n",
      "  },\n",
      "\u001b[1;34m  \"SchemeType\":\u001b[0m\u001b[1;32m \"FHRS\",\u001b[0m\n",
      "\u001b[1;34m  \"geocode\":\u001b[0m\u001b[1;32m {\u001b[0m\n",
      "\u001b[1;34m    \"longitude\":\u001b[0m\u001b[1;32m \"0.08384000\",\u001b[0m\n",
      "\u001b[1;34m    \"latitude\":\u001b[0m\u001b[1;32m \"51.49014200\"\u001b[0m\n",
      "  },\n",
      "\u001b[1;34m  \"RightToReply\":\u001b[0m\u001b[1;32m \"\",\u001b[0m\n",
      "\u001b[1;34m  \"Distance\":\u001b[0m\u001b[1;32m 4623.972328074718,\u001b[0m\n",
      "\u001b[1;34m  \"NewRatingPending\":\u001b[0m\u001b[1;32m true\u001b[0m\n",
      "}\n"
     ]
    }
   ],
   "source": [
    "# Check that the new restaurant was inserted\n",
    "# Convert the document to a JSON string with indentation for readability\n",
    "document = db.establishments.find_one({\"BusinessName\": \"Penang Flavours\"})\n",
    "json_str = json.dumps(document, indent=2, default=str)\n",
    "\n",
    "# Print the JSON string with color\n",
    "# Define colors for keys and values\n",
    "key_color = \"\\033[1;34m\"  # Blue for keys\n",
    "value_color = \"\\033[1;32m\"  # Green for values\n",
    "reset_color = \"\\033[0m\"  # Reset color\n",
    "\n",
    "# Split the JSON string into lines\n",
    "json_lines = json_str.split('\\n')\n",
    "\n",
    "# Print each line with different colors for keys and values\n",
    "for line in json_lines:\n",
    "    if ':' in line:\n",
    "        key, value = line.split(':', 1)\n",
    "        print(f\"{key_color}{key}:{reset_color}{value_color}{value}{reset_color}\")\n",
    "    else:\n",
    "        print(line)"
   ]
  },
  {
   "cell_type": "markdown",
   "id": "0ef4395a",
   "metadata": {},
   "source": [
    "2. Find the BusinessTypeID for \"Restaurant/Cafe/Canteen\" and return only the `BusinessTypeID` and `BusinessType` fields."
   ]
  },
  {
   "cell_type": "code",
   "execution_count": 15,
   "id": "93c63829",
   "metadata": {},
   "outputs": [
    {
     "name": "stdout",
     "output_type": "stream",
     "text": [
      "Most common: BusinessTypeID: 1, BusinessType: Restaurant/Cafe/Canteen\n"
     ]
    }
   ],
   "source": [
    "# Find the BusinessTypeID for \"Restaurant/Cafe/Canteen\" and return only the BusinessTypeID and BusinessType fields\n",
    "# Set up the query\n",
    "query = {\"BusinessType\": \"Restaurant/Cafe/Canteen\"}\n",
    "projection = {\"BusinessTypeID\": 1, \"BusinessType\": 1, \"_id\": 0}\n",
    "\n",
    "# Execute the query and iterate through the results\n",
    "# Find the most common BusinessTypeID for \"Restaurant/Cafe/Canteen\"\n",
    "result = db.establishments.aggregate([\n",
    "    {\"$match\": {\"BusinessType\": \"Restaurant/Cafe/Canteen\"}},\n",
    "    {\"$group\": {\"_id\": {\"BusinessTypeID\": \"$BusinessTypeID\", \"BusinessType\": \"$BusinessType\"}, \"count\": {\"$sum\": 1}}},\n",
    "    {\"$sort\": {\"count\": -1}},\n",
    "    {\"$limit\": 1}\n",
    "])\n",
    "\n",
    "most_common = next(result, None)\n",
    "if most_common:\n",
    "    print(f\"Most common: BusinessTypeID: {most_common['_id']['BusinessTypeID']}, BusinessType: {most_common['_id']['BusinessType']}\")\n",
    "else:\n",
    "    print(\"No results found.\")\n",
    "\n",
    "\n",
    "\n"
   ]
  },
  {
   "cell_type": "markdown",
   "id": "4e570caf",
   "metadata": {},
   "source": [
    "3. Update the new restaurant with the `BusinessTypeID` you found."
   ]
  },
  {
   "cell_type": "code",
   "execution_count": 16,
   "id": "7f599f3d",
   "metadata": {},
   "outputs": [
    {
     "data": {
      "text/plain": [
       "UpdateResult({'n': 1, 'nModified': 1, 'ok': 1.0, 'updatedExisting': True}, acknowledged=True)"
      ]
     },
     "execution_count": 16,
     "metadata": {},
     "output_type": "execute_result"
    }
   ],
   "source": [
    "# Update the new restaurant with the correct BusinessTypeID\n",
    "# update the new BusinessTypeID as the BusinessTypeID for the \"Penang Flavours\" restaurant\n",
    "db.establishments.update_one({\"BusinessName\": \"Penang Flavours\"}, {\"$set\": {\"BusinessTypeID\": most_common[\"_id\"][\"BusinessTypeID\"]}})\n"
   ]
  },
  {
   "cell_type": "code",
   "execution_count": 18,
   "id": "a6ad16f7",
   "metadata": {},
   "outputs": [
    {
     "name": "stdout",
     "output_type": "stream",
     "text": [
      "\u001b[1;34m  \"_id\":\u001b[0m\u001b[1;32m \"66ecbada22963f47a0549c07\",\u001b[0m\n",
      "\u001b[1;34m  \"BusinessName\":\u001b[0m\u001b[1;32m \"Penang Flavours\",\u001b[0m\n",
      "\u001b[1;34m  \"BusinessType\":\u001b[0m\u001b[1;32m \"Restaurant/Cafe/Canteen\",\u001b[0m\n",
      "\u001b[1;34m  \"BusinessTypeID\":\u001b[0m\u001b[1;32m 1,\u001b[0m\n",
      "\u001b[1;34m  \"AddressLine1\":\u001b[0m\u001b[1;32m \"Penang Flavours\",\u001b[0m\n",
      "\u001b[1;34m  \"AddressLine2\":\u001b[0m\u001b[1;32m \"146A Plumstead Rd\",\u001b[0m\n",
      "\u001b[1;34m  \"AddressLine3\":\u001b[0m\u001b[1;32m \"London\",\u001b[0m\n",
      "\u001b[1;34m  \"AddressLine4\":\u001b[0m\u001b[1;32m \"\",\u001b[0m\n",
      "\u001b[1;34m  \"PostCode\":\u001b[0m\u001b[1;32m \"SE18 7DY\",\u001b[0m\n",
      "\u001b[1;34m  \"Phone\":\u001b[0m\u001b[1;32m \"\",\u001b[0m\n",
      "\u001b[1;34m  \"LocalAuthorityCode\":\u001b[0m\u001b[1;32m \"511\",\u001b[0m\n",
      "\u001b[1;34m  \"LocalAuthorityName\":\u001b[0m\u001b[1;32m \"Greenwich\",\u001b[0m\n",
      "\u001b[1;34m  \"LocalAuthorityWebSite\":\u001b[0m\u001b[1;32m \"http://www.royalgreenwich.gov.uk\",\u001b[0m\n",
      "\u001b[1;34m  \"LocalAuthorityEmailAddress\":\u001b[0m\u001b[1;32m \"health@royalgreenwich.gov.uk\",\u001b[0m\n",
      "\u001b[1;34m  \"scores\":\u001b[0m\u001b[1;32m {\u001b[0m\n",
      "\u001b[1;34m    \"Hygiene\":\u001b[0m\u001b[1;32m \"\",\u001b[0m\n",
      "\u001b[1;34m    \"Structural\":\u001b[0m\u001b[1;32m \"\",\u001b[0m\n",
      "\u001b[1;34m    \"ConfidenceInManagement\":\u001b[0m\u001b[1;32m \"\"\u001b[0m\n",
      "\u001b[1;34m  \"SchemeType\":\u001b[0m\u001b[1;32m \"FHRS\",\u001b[0m\n",
      "\u001b[1;34m  \"geocode\":\u001b[0m\u001b[1;32m {\u001b[0m\n",
      "\u001b[1;34m    \"longitude\":\u001b[0m\u001b[1;32m \"0.08384000\",\u001b[0m\n",
      "\u001b[1;34m    \"latitude\":\u001b[0m\u001b[1;32m \"51.49014200\"\u001b[0m\n",
      "\u001b[1;34m  \"RightToReply\":\u001b[0m\u001b[1;32m \"\",\u001b[0m\n",
      "\u001b[1;34m  \"Distance\":\u001b[0m\u001b[1;32m 4623.972328074718,\u001b[0m\n",
      "\u001b[1;34m  \"NewRatingPending\":\u001b[0m\u001b[1;32m true\u001b[0m\n"
     ]
    }
   ],
   "source": [
    "# Confirm that the new restaurant was updated\n",
    "# Convert the document to a JSON string with indentation for readability\n",
    "document = db.establishments.find_one({\"BusinessName\": \"Penang Flavours\"})\n",
    "json_str = json.dumps(document, indent=2, default=str)\n",
    "\n",
    "# Print the JSON string with color\n",
    "# Define colors for keys and values\n",
    "key_color = \"\\033[1;34m\"  # Blue for keys\n",
    "value_color = \"\\033[1;32m\"  # Green for values\n",
    "reset_color = \"\\033[0m\"  # Reset color\n",
    "\n",
    "# Split the JSON string into lines\n",
    "json_lines = json_str.split('\\n')\n",
    "\n",
    "# Print each line with different colors for keys and values\n",
    "for line in json_lines:\n",
    "    if ':' in line:\n",
    "        key, value = line.split(':', 1)\n",
    "        print(f\"{key_color}{key}:{reset_color}{value_color}{value}{reset_color}\")\n",
    "        "
   ]
  },
  {
   "cell_type": "markdown",
   "id": "67281254",
   "metadata": {},
   "source": [
    "4. The magazine is not interested in any establishments in Dover, so check how many documents contain the Dover Local Authority. Then, remove any establishments within the Dover Local Authority from the database, and check the number of documents to ensure they were deleted."
   ]
  },
  {
   "cell_type": "code",
   "execution_count": 19,
   "id": "768474a6",
   "metadata": {},
   "outputs": [
    {
     "name": "stdout",
     "output_type": "stream",
     "text": [
      "Number of documents with LocalAuthorityName as 'Dover': 994\n"
     ]
    }
   ],
   "source": [
    "# Find how many documents have LocalAuthorityName as \"Dover\"\n",
    "dover_count = establishments.count_documents({\"LocalAuthorityName\": \"Dover\"})\n",
    "print(f\"Number of documents with LocalAuthorityName as 'Dover': {dover_count}\")"
   ]
  },
  {
   "cell_type": "code",
   "execution_count": 20,
   "id": "a11d5f1b",
   "metadata": {},
   "outputs": [
    {
     "data": {
      "text/plain": [
       "DeleteResult({'n': 994, 'ok': 1.0}, acknowledged=True)"
      ]
     },
     "execution_count": 20,
     "metadata": {},
     "output_type": "execute_result"
    }
   ],
   "source": [
    "# Delete all documents where LocalAuthorityName is \"Dover\"\n",
    "establishments.delete_many({\"LocalAuthorityName\": \"Dover\"})"
   ]
  },
  {
   "cell_type": "code",
   "execution_count": 22,
   "id": "2a51aba0",
   "metadata": {},
   "outputs": [
    {
     "name": "stdout",
     "output_type": "stream",
     "text": [
      "Number of documents with LocalAuthorityName as 'Dover': 0\n"
     ]
    }
   ],
   "source": [
    "# Check if any remaining documents include Dover\n",
    "remaining_dover_count = establishments.count_documents({\"LocalAuthorityName\": \"Dover\"})\n",
    "print(f\"Number of documents with LocalAuthorityName as 'Dover': {remaining_dover_count}\")\n"
   ]
  },
  {
   "cell_type": "code",
   "execution_count": 23,
   "id": "8c356f7b",
   "metadata": {},
   "outputs": [
    {
     "name": "stdout",
     "output_type": "stream",
     "text": [
      "{\n",
      "\u001b[1;34m  \"_id\":\u001b[0m\u001b[1;32m \"66ecb7ced5960d06c3e30aca\",\u001b[0m\n",
      "\u001b[1;34m  \"FHRSID\":\u001b[0m\u001b[1;32m 289353,\u001b[0m\n",
      "\u001b[1;34m  \"ChangesByServerID\":\u001b[0m\u001b[1;32m 0,\u001b[0m\n",
      "\u001b[1;34m  \"LocalAuthorityBusinessID\":\u001b[0m\u001b[1;32m \"PI/000002468\",\u001b[0m\n",
      "\u001b[1;34m  \"BusinessName\":\u001b[0m\u001b[1;32m \"St Marys COE (aided) Primary School\",\u001b[0m\n",
      "\u001b[1;34m  \"BusinessType\":\u001b[0m\u001b[1;32m \"School/college/university\",\u001b[0m\n",
      "\u001b[1;34m  \"BusinessTypeID\":\u001b[0m\u001b[1;32m 7845,\u001b[0m\n",
      "\u001b[1;34m  \"AddressLine1\":\u001b[0m\u001b[1;32m \"St Marys Church Of England Primary School\",\u001b[0m\n",
      "\u001b[1;34m  \"AddressLine2\":\u001b[0m\u001b[1;32m \"Warren Road\",\u001b[0m\n",
      "\u001b[1;34m  \"AddressLine3\":\u001b[0m\u001b[1;32m \"Folkestone\",\u001b[0m\n",
      "\u001b[1;34m  \"AddressLine4\":\u001b[0m\u001b[1;32m \"Kent\",\u001b[0m\n",
      "\u001b[1;34m  \"PostCode\":\u001b[0m\u001b[1;32m \"CT19 6QH\",\u001b[0m\n",
      "\u001b[1;34m  \"Phone\":\u001b[0m\u001b[1;32m \"\",\u001b[0m\n",
      "\u001b[1;34m  \"RatingValue\":\u001b[0m\u001b[1;32m \"5\",\u001b[0m\n",
      "\u001b[1;34m  \"RatingKey\":\u001b[0m\u001b[1;32m \"fhrs_5_en-gb\",\u001b[0m\n",
      "\u001b[1;34m  \"RatingDate\":\u001b[0m\u001b[1;32m \"2016-09-13T00:00:00\",\u001b[0m\n",
      "\u001b[1;34m  \"LocalAuthorityCode\":\u001b[0m\u001b[1;32m \"188\",\u001b[0m\n",
      "\u001b[1;34m  \"LocalAuthorityName\":\u001b[0m\u001b[1;32m \"Folkestone and Hythe\",\u001b[0m\n",
      "\u001b[1;34m  \"LocalAuthorityWebSite\":\u001b[0m\u001b[1;32m \"http://www.folkestone-hythe.gov.uk\",\u001b[0m\n",
      "\u001b[1;34m  \"LocalAuthorityEmailAddress\":\u001b[0m\u001b[1;32m \"foodteam@folkestone-hythe.gov.uk\",\u001b[0m\n",
      "\u001b[1;34m  \"scores\":\u001b[0m\u001b[1;32m {\u001b[0m\n",
      "\u001b[1;34m    \"Hygiene\":\u001b[0m\u001b[1;32m 0,\u001b[0m\n",
      "\u001b[1;34m    \"Structural\":\u001b[0m\u001b[1;32m 0,\u001b[0m\n",
      "\u001b[1;34m    \"ConfidenceInManagement\":\u001b[0m\u001b[1;32m 0\u001b[0m\n",
      "  },\n",
      "\u001b[1;34m  \"SchemeType\":\u001b[0m\u001b[1;32m \"FHRS\",\u001b[0m\n",
      "\u001b[1;34m  \"geocode\":\u001b[0m\u001b[1;32m {\u001b[0m\n",
      "\u001b[1;34m    \"longitude\":\u001b[0m\u001b[1;32m \"1.194762\",\u001b[0m\n",
      "\u001b[1;34m    \"latitude\":\u001b[0m\u001b[1;32m \"51.085797\"\u001b[0m\n",
      "  },\n",
      "\u001b[1;34m  \"RightToReply\":\u001b[0m\u001b[1;32m \"\",\u001b[0m\n",
      "\u001b[1;34m  \"Distance\":\u001b[0m\u001b[1;32m 4591.871474174837,\u001b[0m\n",
      "\u001b[1;34m  \"NewRatingPending\":\u001b[0m\u001b[1;32m false,\u001b[0m\n",
      "\u001b[1;34m  \"meta\":\u001b[0m\u001b[1;32m {\u001b[0m\n",
      "\u001b[1;34m    \"dataSource\":\u001b[0m\u001b[1;32m null,\u001b[0m\n",
      "\u001b[1;34m    \"extractDate\":\u001b[0m\u001b[1;32m \"0001-01-01T00:00:00\",\u001b[0m\n",
      "\u001b[1;34m    \"itemCount\":\u001b[0m\u001b[1;32m 0,\u001b[0m\n",
      "\u001b[1;34m    \"returncode\":\u001b[0m\u001b[1;32m null,\u001b[0m\n",
      "\u001b[1;34m    \"totalCount\":\u001b[0m\u001b[1;32m 0,\u001b[0m\n",
      "\u001b[1;34m    \"totalPages\":\u001b[0m\u001b[1;32m 0,\u001b[0m\n",
      "\u001b[1;34m    \"pageSize\":\u001b[0m\u001b[1;32m 0,\u001b[0m\n",
      "\u001b[1;34m    \"pageNumber\":\u001b[0m\u001b[1;32m 0\u001b[0m\n",
      "  },\n",
      "\u001b[1;34m  \"links\":\u001b[0m\u001b[1;32m [\u001b[0m\n",
      "    {\n",
      "\u001b[1;34m      \"rel\":\u001b[0m\u001b[1;32m \"self\",\u001b[0m\n",
      "\u001b[1;34m      \"href\":\u001b[0m\u001b[1;32m \"https://api.ratings.food.gov.uk/establishments/289353\"\u001b[0m\n",
      "    }\n",
      "  ]\n",
      "}\n"
     ]
    }
   ],
   "source": [
    "# Check that other documents remain with 'find_one'\n",
    "# Fetch one document from the establishments collection\n",
    "document = establishments.find_one()\n",
    "\n",
    "# Convert the document to a JSON string with indentation for readability\n",
    "json_str = json.dumps(document, indent=2, default=str)\n",
    "\n",
    "# Print the JSON string with color\n",
    "# Define colors for keys and values\n",
    "key_color = \"\\033[1;34m\"  # Blue for keys\n",
    "value_color = \"\\033[1;32m\"  # Green for values\n",
    "reset_color = \"\\033[0m\"  # Reset color\n",
    "\n",
    "# Split the JSON string into lines\n",
    "json_lines = json_str.split('\\n')\n",
    "\n",
    "# Print each line with different colors for keys and values\n",
    "key_color = \"\\033[1;34m\"  # Blue for keys\n",
    "\n",
    "for line in json_lines:\n",
    "    if ':' in line:\n",
    "        key, value = line.split(':', 1)\n",
    "        print(f\"{key_color}{key}:{reset_color}{value_color}{value}{reset_color}\")\n",
    "    else:\n",
    "        print(line)\n"
   ]
  },
  {
   "attachments": {},
   "cell_type": "markdown",
   "id": "e9f1662d",
   "metadata": {},
   "source": [
    "5. Some of the number values are stored as strings, when they should be stored as numbers."
   ]
  },
  {
   "attachments": {},
   "cell_type": "markdown",
   "id": "c46df2df",
   "metadata": {},
   "source": [
    "Use `update_many` to convert `latitude` and `longitude` to decimal numbers."
   ]
  },
  {
   "cell_type": "code",
   "execution_count": 25,
   "id": "fd4112ce",
   "metadata": {},
   "outputs": [
    {
     "data": {
      "text/plain": [
       "UpdateResult({'n': 38786, 'nModified': 38786, 'ok': 1.0, 'updatedExisting': True}, acknowledged=True)"
      ]
     },
     "execution_count": 25,
     "metadata": {},
     "output_type": "execute_result"
    }
   ],
   "source": [
    "# Change the data type from String to Decimal for longitude and latitude\n",
    "establishments.update_many(\n",
    "    {\"geocode.latitude\": {\"$type\": \"string\"}, \"geocode.longitude\": {\"$type\": \"string\"}},\n",
    "    [\n",
    "        {\n",
    "            '$set': {\n",
    "                \"geocode.latitude\": {'$toDouble': '$geocode.latitude'},\n",
    "                \"geocode.longitude\": {'$toDouble': '$geocode.longitude'}\n",
    "            }\n",
    "        }\n",
    "    ]\n",
    ")"
   ]
  },
  {
   "attachments": {},
   "cell_type": "markdown",
   "id": "142e319c",
   "metadata": {},
   "source": [
    "Use `update_many` to convert `RatingValue` to integer numbers."
   ]
  },
  {
   "cell_type": "code",
   "execution_count": 26,
   "id": "04430a5b",
   "metadata": {},
   "outputs": [
    {
     "data": {
      "text/plain": [
       "UpdateResult({'n': 4091, 'nModified': 4091, 'ok': 1.0, 'updatedExisting': True}, acknowledged=True)"
      ]
     },
     "execution_count": 26,
     "metadata": {},
     "output_type": "execute_result"
    }
   ],
   "source": [
    "# Set non 1-5 Rating Values to Null\n",
    "non_ratings = [\"AwaitingInspection\", \"Awaiting Inspection\", \"AwaitingPublication\", \"Pass\", \"Exempt\"]\n",
    "establishments.update_many({\"RatingValue\": {\"$in\": non_ratings}}, [ {'$set':{ \"RatingValue\" : None}} ])"
   ]
  },
  {
   "cell_type": "code",
   "execution_count": 31,
   "id": "92524ccc",
   "metadata": {},
   "outputs": [
    {
     "data": {
      "text/plain": [
       "UpdateResult({'n': 0, 'nModified': 0, 'ok': 1.0, 'updatedExisting': False}, acknowledged=True)"
      ]
     },
     "execution_count": 31,
     "metadata": {},
     "output_type": "execute_result"
    }
   ],
   "source": [
    "# Change the data type from String to Integer for RatingValue\n",
    "establishments.update_many(\n",
    "    {\"RatingValue\": {\"$type\": \"string\"}},\n",
    "    [\n",
    "        {\n",
    "            '$set': {\n",
    "                \"RatingValue\": {'$toInt': '$RatingValue'}\n",
    "            }\n",
    "        }\n",
    "    ]\n",
    ")"
   ]
  },
  {
   "cell_type": "code",
   "execution_count": 46,
   "id": "0deacaf9",
   "metadata": {},
   "outputs": [
    {
     "name": "stdout",
     "output_type": "stream",
     "text": [
      "BusinessName: St Marys COE (aided) Primary School\n",
      "RatingValue: 5\n"
     ]
    }
   ],
   "source": [
    "# Check that the coordinates and rating value are now numbers\n",
    "# Get a document from the establishments collection\n",
    "document = establishments.find_one({}, {\"BusinessName\": 1, \"RatingValue\": 1, \"_id\": 0})\n",
    "\n",
    "# Print the BusinessName and RatingValue\n",
    "print(\"BusinessName:\", document[\"BusinessName\"])\n",
    "print(\"RatingValue:\", document[\"RatingValue\"])\n",
    "\n"
   ]
  },
  {
   "cell_type": "code",
   "execution_count": null,
   "id": "09e7bfd9",
   "metadata": {},
   "outputs": [],
   "source": []
  }
 ],
 "metadata": {
  "kernelspec": {
   "display_name": "Python 3 (ipykernel)",
   "language": "python",
   "name": "python3"
  },
  "language_info": {
   "codemirror_mode": {
    "name": "ipython",
    "version": 3
   },
   "file_extension": ".py",
   "mimetype": "text/x-python",
   "name": "python",
   "nbconvert_exporter": "python",
   "pygments_lexer": "ipython3",
   "version": "3.10.14"
  }
 },
 "nbformat": 4,
 "nbformat_minor": 5
}
